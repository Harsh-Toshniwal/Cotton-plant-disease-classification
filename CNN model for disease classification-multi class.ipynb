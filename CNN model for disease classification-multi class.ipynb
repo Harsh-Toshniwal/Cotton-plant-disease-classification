{
 "cells": [
  {
   "cell_type": "markdown",
   "id": "68ee0f20",
   "metadata": {},
   "source": [
    "## Table of Content\n",
    "1. Libraries\n",
    "2. Training & DataLoader\n",
    "3. Building the CNN\n",
    "4. Summary\n",
    "5. Training The CNN\n",
    "6. Testing \n",
    "7. Conclusion"
   ]
  },
  {
   "cell_type": "markdown",
   "id": "eb723d2e",
   "metadata": {},
   "source": [
    "## Libraries\n"
   ]
  },
  {
   "cell_type": "code",
   "execution_count": 1,
   "id": "b0e37ecf",
   "metadata": {},
   "outputs": [],
   "source": [
    "import tensorflow as tf\n",
    "from tensorflow.keras.preprocessing.image import ImageDataGenerator\n",
    "from tensorflow.keras.layers import Conv2D, MaxPool2D, Dense, Flatten\n",
    "from tensorflow.keras.models import Sequential\n",
    "from tensorflow.keras.callbacks import EarlyStopping\n",
    "import numpy as np\n",
    "from tensorflow.keras.preprocessing import image"
   ]
  },
  {
   "cell_type": "code",
   "execution_count": 2,
   "id": "3a91e947",
   "metadata": {},
   "outputs": [],
   "source": [
    "import os\n",
    "import pandas as pd"
   ]
  },
  {
   "cell_type": "markdown",
   "id": "655ac661",
   "metadata": {},
   "source": [
    " ## Training & DataLoader"
   ]
  },
  {
   "cell_type": "code",
   "execution_count": 3,
   "id": "e65cae5f",
   "metadata": {},
   "outputs": [],
   "source": [
    "train_datagen = ImageDataGenerator(rescale = 1./255,\n",
    "                                   shear_range = 0.2,\n",
    "                                   zoom_range = 0.2,\n",
    "                                   horizontal_flip = True)"
   ]
  },
  {
   "cell_type": "code",
   "execution_count": 4,
   "id": "19131e10",
   "metadata": {},
   "outputs": [
    {
     "data": {
      "text/plain": [
       "'C:\\\\Users\\\\Harsh Toshniwal'"
      ]
     },
     "execution_count": 4,
     "metadata": {},
     "output_type": "execute_result"
    }
   ],
   "source": [
    "pwd"
   ]
  },
  {
   "cell_type": "code",
   "execution_count": 5,
   "id": "85767968",
   "metadata": {},
   "outputs": [],
   "source": [
    "my_data_dir = 'D:/College/Cotton'"
   ]
  },
  {
   "cell_type": "code",
   "execution_count": 6,
   "id": "87eca05d",
   "metadata": {},
   "outputs": [
    {
     "data": {
      "text/plain": [
       "['bacterial-blight.png', 'images.jpg', 'test', 'train']"
      ]
     },
     "execution_count": 6,
     "metadata": {},
     "output_type": "execute_result"
    }
   ],
   "source": [
    "os.listdir(my_data_dir) "
   ]
  },
  {
   "cell_type": "code",
   "execution_count": 7,
   "id": "2ea6e008",
   "metadata": {},
   "outputs": [],
   "source": [
    "test_path = my_data_dir+'\\\\test\\\\'\n",
    "train_path = my_data_dir+'\\\\train\\\\'"
   ]
  },
  {
   "cell_type": "code",
   "execution_count": 8,
   "id": "e0c4983d",
   "metadata": {},
   "outputs": [
    {
     "name": "stdout",
     "output_type": "stream",
     "text": [
      "Found 1709 images belonging to 4 classes.\n",
      "Found 1709 images belonging to 4 classes.\n"
     ]
    }
   ],
   "source": [
    "training_set = train_datagen.flow_from_directory(train_path,\n",
    "                                                 target_size=  (64, 64),\n",
    "                                                 batch_size = 32,\n",
    "                                                 class_mode = 'categorical')\n",
    "\n",
    "# Preprocessing the Test set\n",
    "test_datagen = ImageDataGenerator(rescale = 1./255)\n",
    "test_set = test_datagen.flow_from_directory(test_path,\n",
    "                                            target_size = (64, 64),\n",
    "                                            batch_size = 32,\n",
    "                                            class_mode = 'categorical')"
   ]
  },
  {
   "cell_type": "markdown",
   "id": "08476d9d",
   "metadata": {},
   "source": [
    "## Building the CNN"
   ]
  },
  {
   "cell_type": "code",
   "execution_count": 9,
   "id": "45870b20",
   "metadata": {},
   "outputs": [],
   "source": [
    "# Initialising the CNN\n",
    "cnn = Sequential()\n",
    "\n",
    "# Step 1 - Convolution\n",
    "cnn.add(Conv2D(filters=32,padding=\"same\",kernel_size=3, activation='relu', input_shape=[64, 64, 3]))\n",
    "\n",
    "# Step 2 - Pooling\n",
    "cnn.add(MaxPool2D(pool_size=2))\n",
    "\n",
    "# Adding a second convolutional layer\n",
    "cnn.add(Conv2D(filters=32,padding='same',kernel_size=3, activation='relu'))\n",
    "cnn.add(MaxPool2D(pool_size=2))\n",
    "\n",
    "# Step 3 - Flattening\n",
    "cnn.add(Flatten())\n",
    "\n",
    "# Step 4 - Full Connection\n",
    "cnn.add(Dense(units=128, activation='relu'))\n",
    "\n",
    "# Step 5 - Output Layer\n",
    "cnn.add(Dense(units=4, activation='softmax')) "
   ]
  },
  {
   "cell_type": "code",
   "execution_count": 10,
   "id": "5c749e2c",
   "metadata": {},
   "outputs": [],
   "source": [
    "early_stop = EarlyStopping(monitor='val_loss',patience=5)"
   ]
  },
  {
   "cell_type": "markdown",
   "id": "2610a9ba",
   "metadata": {},
   "source": [
    "## Summary"
   ]
  },
  {
   "cell_type": "code",
   "execution_count": 11,
   "id": "2a2e6985",
   "metadata": {},
   "outputs": [
    {
     "name": "stdout",
     "output_type": "stream",
     "text": [
      "Model: \"sequential\"\n",
      "_________________________________________________________________\n",
      " Layer (type)                Output Shape              Param #   \n",
      "=================================================================\n",
      " conv2d (Conv2D)             (None, 64, 64, 32)        896       \n",
      "                                                                 \n",
      " max_pooling2d (MaxPooling2D  (None, 32, 32, 32)       0         \n",
      " )                                                               \n",
      "                                                                 \n",
      " conv2d_1 (Conv2D)           (None, 32, 32, 32)        9248      \n",
      "                                                                 \n",
      " max_pooling2d_1 (MaxPooling  (None, 16, 16, 32)       0         \n",
      " 2D)                                                             \n",
      "                                                                 \n",
      " flatten (Flatten)           (None, 8192)              0         \n",
      "                                                                 \n",
      " dense (Dense)               (None, 128)               1048704   \n",
      "                                                                 \n",
      " dense_1 (Dense)             (None, 4)                 516       \n",
      "                                                                 \n",
      "=================================================================\n",
      "Total params: 1,059,364\n",
      "Trainable params: 1,059,364\n",
      "Non-trainable params: 0\n",
      "_________________________________________________________________\n"
     ]
    }
   ],
   "source": [
    "cnn.summary()"
   ]
  },
  {
   "cell_type": "markdown",
   "id": "e60d501b",
   "metadata": {},
   "source": [
    "## Training the CNN\n"
   ]
  },
  {
   "cell_type": "code",
   "execution_count": 12,
   "id": "516dc993",
   "metadata": {
    "scrolled": true
   },
   "outputs": [
    {
     "name": "stdout",
     "output_type": "stream",
     "text": [
      "Epoch 1/20\n",
      "54/54 [==============================] - 15s 268ms/step - loss: 1.0162 - accuracy: 0.5518 - val_loss: 0.7242 - val_accuracy: 0.7098\n",
      "Epoch 2/20\n",
      "54/54 [==============================] - 14s 270ms/step - loss: 0.7352 - accuracy: 0.6987 - val_loss: 0.6319 - val_accuracy: 0.7361\n",
      "Epoch 3/20\n",
      "54/54 [==============================] - 15s 269ms/step - loss: 0.6270 - accuracy: 0.7601 - val_loss: 0.5269 - val_accuracy: 0.7894\n",
      "Epoch 4/20\n",
      "54/54 [==============================] - 15s 285ms/step - loss: 0.5462 - accuracy: 0.7917 - val_loss: 0.5377 - val_accuracy: 0.8128\n",
      "Epoch 5/20\n",
      "54/54 [==============================] - 16s 293ms/step - loss: 0.4581 - accuracy: 0.8373 - val_loss: 0.5836 - val_accuracy: 0.7806\n",
      "Epoch 6/20\n",
      "54/54 [==============================] - 15s 289ms/step - loss: 0.3488 - accuracy: 0.8730 - val_loss: 0.3617 - val_accuracy: 0.8742\n",
      "Epoch 7/20\n",
      "54/54 [==============================] - 15s 289ms/step - loss: 0.3109 - accuracy: 0.8841 - val_loss: 0.4387 - val_accuracy: 0.8327\n",
      "Epoch 8/20\n",
      "54/54 [==============================] - 16s 292ms/step - loss: 0.3079 - accuracy: 0.8900 - val_loss: 0.3187 - val_accuracy: 0.8941\n",
      "Epoch 9/20\n",
      "54/54 [==============================] - 16s 294ms/step - loss: 0.2110 - accuracy: 0.9321 - val_loss: 0.3786 - val_accuracy: 0.8578\n",
      "Epoch 10/20\n",
      "54/54 [==============================] - 15s 278ms/step - loss: 0.2106 - accuracy: 0.9315 - val_loss: 0.2297 - val_accuracy: 0.9093\n",
      "Epoch 11/20\n",
      "54/54 [==============================] - 14s 270ms/step - loss: 0.1804 - accuracy: 0.9362 - val_loss: 0.3375 - val_accuracy: 0.8853\n",
      "Epoch 12/20\n",
      "54/54 [==============================] - 15s 272ms/step - loss: 0.1397 - accuracy: 0.9508 - val_loss: 0.1775 - val_accuracy: 0.9421\n",
      "Epoch 13/20\n",
      "54/54 [==============================] - 16s 290ms/step - loss: 0.1228 - accuracy: 0.9614 - val_loss: 0.0617 - val_accuracy: 0.9830\n",
      "Epoch 14/20\n",
      "54/54 [==============================] - 15s 278ms/step - loss: 0.1521 - accuracy: 0.9403 - val_loss: 0.0907 - val_accuracy: 0.9649\n",
      "Epoch 15/20\n",
      "54/54 [==============================] - 14s 270ms/step - loss: 0.1076 - accuracy: 0.9631 - val_loss: 0.1445 - val_accuracy: 0.9491\n",
      "Epoch 16/20\n",
      "54/54 [==============================] - 14s 271ms/step - loss: 0.1175 - accuracy: 0.9508 - val_loss: 0.0544 - val_accuracy: 0.9830\n",
      "Epoch 17/20\n",
      "54/54 [==============================] - 16s 294ms/step - loss: 0.0891 - accuracy: 0.9690 - val_loss: 0.0829 - val_accuracy: 0.9696\n",
      "Epoch 18/20\n",
      "54/54 [==============================] - 16s 295ms/step - loss: 0.1098 - accuracy: 0.9626 - val_loss: 0.1251 - val_accuracy: 0.9497\n",
      "Epoch 19/20\n",
      "54/54 [==============================] - 16s 290ms/step - loss: 0.0750 - accuracy: 0.9737 - val_loss: 0.1293 - val_accuracy: 0.9538\n",
      "Epoch 20/20\n",
      "54/54 [==============================] - 15s 281ms/step - loss: 0.0544 - accuracy: 0.9813 - val_loss: 0.0676 - val_accuracy: 0.9813\n"
     ]
    },
    {
     "data": {
      "text/plain": [
       "<keras.callbacks.History at 0x1867aeabaf0>"
      ]
     },
     "execution_count": 12,
     "metadata": {},
     "output_type": "execute_result"
    }
   ],
   "source": [
    "# Compiling the CNN\n",
    "cnn.compile(optimizer = 'adam',loss = 'categorical_crossentropy', metrics = ['accuracy'])\n",
    "\n",
    "# Training the CNN on the Training set and evaluating it on the Test set\n",
    "cnn.fit(x = training_set, validation_data = test_set, epochs = 20, callbacks=[early_stop])"
   ]
  },
  {
   "cell_type": "markdown",
   "id": "8a0b51ff",
   "metadata": {},
   "source": [
    "## Testing "
   ]
  },
  {
   "cell_type": "code",
   "execution_count": 13,
   "id": "03a76f58",
   "metadata": {},
   "outputs": [],
   "source": [
    "losses = pd.DataFrame(cnn.history.history)"
   ]
  },
  {
   "cell_type": "code",
   "execution_count": 14,
   "id": "730df1cc",
   "metadata": {
    "scrolled": true
   },
   "outputs": [
    {
     "data": {
      "text/html": [
       "<div>\n",
       "<style scoped>\n",
       "    .dataframe tbody tr th:only-of-type {\n",
       "        vertical-align: middle;\n",
       "    }\n",
       "\n",
       "    .dataframe tbody tr th {\n",
       "        vertical-align: top;\n",
       "    }\n",
       "\n",
       "    .dataframe thead th {\n",
       "        text-align: right;\n",
       "    }\n",
       "</style>\n",
       "<table border=\"1\" class=\"dataframe\">\n",
       "  <thead>\n",
       "    <tr style=\"text-align: right;\">\n",
       "      <th></th>\n",
       "      <th>loss</th>\n",
       "      <th>accuracy</th>\n",
       "      <th>val_loss</th>\n",
       "      <th>val_accuracy</th>\n",
       "    </tr>\n",
       "  </thead>\n",
       "  <tbody>\n",
       "    <tr>\n",
       "      <th>0</th>\n",
       "      <td>1.016191</td>\n",
       "      <td>0.551785</td>\n",
       "      <td>0.724213</td>\n",
       "      <td>0.709772</td>\n",
       "    </tr>\n",
       "    <tr>\n",
       "      <th>1</th>\n",
       "      <td>0.735205</td>\n",
       "      <td>0.698654</td>\n",
       "      <td>0.631930</td>\n",
       "      <td>0.736103</td>\n",
       "    </tr>\n",
       "    <tr>\n",
       "      <th>2</th>\n",
       "      <td>0.627045</td>\n",
       "      <td>0.760094</td>\n",
       "      <td>0.526942</td>\n",
       "      <td>0.789351</td>\n",
       "    </tr>\n",
       "    <tr>\n",
       "      <th>3</th>\n",
       "      <td>0.546239</td>\n",
       "      <td>0.791691</td>\n",
       "      <td>0.537710</td>\n",
       "      <td>0.812756</td>\n",
       "    </tr>\n",
       "    <tr>\n",
       "      <th>4</th>\n",
       "      <td>0.458083</td>\n",
       "      <td>0.837332</td>\n",
       "      <td>0.583632</td>\n",
       "      <td>0.780573</td>\n",
       "    </tr>\n",
       "    <tr>\n",
       "      <th>5</th>\n",
       "      <td>0.348792</td>\n",
       "      <td>0.873025</td>\n",
       "      <td>0.361703</td>\n",
       "      <td>0.874195</td>\n",
       "    </tr>\n",
       "    <tr>\n",
       "      <th>6</th>\n",
       "      <td>0.310903</td>\n",
       "      <td>0.884143</td>\n",
       "      <td>0.438710</td>\n",
       "      <td>0.832651</td>\n",
       "    </tr>\n",
       "    <tr>\n",
       "      <th>7</th>\n",
       "      <td>0.307894</td>\n",
       "      <td>0.889994</td>\n",
       "      <td>0.318726</td>\n",
       "      <td>0.894090</td>\n",
       "    </tr>\n",
       "    <tr>\n",
       "      <th>8</th>\n",
       "      <td>0.211016</td>\n",
       "      <td>0.932124</td>\n",
       "      <td>0.378637</td>\n",
       "      <td>0.857812</td>\n",
       "    </tr>\n",
       "    <tr>\n",
       "      <th>9</th>\n",
       "      <td>0.210584</td>\n",
       "      <td>0.931539</td>\n",
       "      <td>0.229737</td>\n",
       "      <td>0.909304</td>\n",
       "    </tr>\n",
       "    <tr>\n",
       "      <th>10</th>\n",
       "      <td>0.180351</td>\n",
       "      <td>0.936220</td>\n",
       "      <td>0.337452</td>\n",
       "      <td>0.885313</td>\n",
       "    </tr>\n",
       "    <tr>\n",
       "      <th>11</th>\n",
       "      <td>0.139661</td>\n",
       "      <td>0.950848</td>\n",
       "      <td>0.177525</td>\n",
       "      <td>0.942071</td>\n",
       "    </tr>\n",
       "    <tr>\n",
       "      <th>12</th>\n",
       "      <td>0.122764</td>\n",
       "      <td>0.961381</td>\n",
       "      <td>0.061662</td>\n",
       "      <td>0.983031</td>\n",
       "    </tr>\n",
       "    <tr>\n",
       "      <th>13</th>\n",
       "      <td>0.152147</td>\n",
       "      <td>0.940316</td>\n",
       "      <td>0.090697</td>\n",
       "      <td>0.964892</td>\n",
       "    </tr>\n",
       "    <tr>\n",
       "      <th>14</th>\n",
       "      <td>0.107631</td>\n",
       "      <td>0.963136</td>\n",
       "      <td>0.144471</td>\n",
       "      <td>0.949093</td>\n",
       "    </tr>\n",
       "    <tr>\n",
       "      <th>15</th>\n",
       "      <td>0.117535</td>\n",
       "      <td>0.950848</td>\n",
       "      <td>0.054410</td>\n",
       "      <td>0.983031</td>\n",
       "    </tr>\n",
       "    <tr>\n",
       "      <th>16</th>\n",
       "      <td>0.089066</td>\n",
       "      <td>0.968988</td>\n",
       "      <td>0.082922</td>\n",
       "      <td>0.969573</td>\n",
       "    </tr>\n",
       "    <tr>\n",
       "      <th>17</th>\n",
       "      <td>0.109774</td>\n",
       "      <td>0.962551</td>\n",
       "      <td>0.125100</td>\n",
       "      <td>0.949678</td>\n",
       "    </tr>\n",
       "    <tr>\n",
       "      <th>18</th>\n",
       "      <td>0.075025</td>\n",
       "      <td>0.973669</td>\n",
       "      <td>0.129288</td>\n",
       "      <td>0.953774</td>\n",
       "    </tr>\n",
       "    <tr>\n",
       "      <th>19</th>\n",
       "      <td>0.054443</td>\n",
       "      <td>0.981276</td>\n",
       "      <td>0.067571</td>\n",
       "      <td>0.981276</td>\n",
       "    </tr>\n",
       "  </tbody>\n",
       "</table>\n",
       "</div>"
      ],
      "text/plain": [
       "        loss  accuracy  val_loss  val_accuracy\n",
       "0   1.016191  0.551785  0.724213      0.709772\n",
       "1   0.735205  0.698654  0.631930      0.736103\n",
       "2   0.627045  0.760094  0.526942      0.789351\n",
       "3   0.546239  0.791691  0.537710      0.812756\n",
       "4   0.458083  0.837332  0.583632      0.780573\n",
       "5   0.348792  0.873025  0.361703      0.874195\n",
       "6   0.310903  0.884143  0.438710      0.832651\n",
       "7   0.307894  0.889994  0.318726      0.894090\n",
       "8   0.211016  0.932124  0.378637      0.857812\n",
       "9   0.210584  0.931539  0.229737      0.909304\n",
       "10  0.180351  0.936220  0.337452      0.885313\n",
       "11  0.139661  0.950848  0.177525      0.942071\n",
       "12  0.122764  0.961381  0.061662      0.983031\n",
       "13  0.152147  0.940316  0.090697      0.964892\n",
       "14  0.107631  0.963136  0.144471      0.949093\n",
       "15  0.117535  0.950848  0.054410      0.983031\n",
       "16  0.089066  0.968988  0.082922      0.969573\n",
       "17  0.109774  0.962551  0.125100      0.949678\n",
       "18  0.075025  0.973669  0.129288      0.953774\n",
       "19  0.054443  0.981276  0.067571      0.981276"
      ]
     },
     "execution_count": 14,
     "metadata": {},
     "output_type": "execute_result"
    }
   ],
   "source": [
    "losses"
   ]
  },
  {
   "cell_type": "code",
   "execution_count": 15,
   "id": "bf327233",
   "metadata": {},
   "outputs": [
    {
     "data": {
      "text/plain": [
       "<AxesSubplot:>"
      ]
     },
     "execution_count": 15,
     "metadata": {},
     "output_type": "execute_result"
    },
    {
     "data": {
      "image/png": "[encoded data removed]",
      "text/plain": [
       "<Figure size 432x288 with 1 Axes>"
      ]
     },
     "metadata": {
      "needs_background": "light"
     },
     "output_type": "display_data"
    }
   ],
   "source": [
    "losses[['accuracy', 'val_accuracy']].plot()"
   ]
  },
  {
   "cell_type": "code",
   "execution_count": 16,
   "id": "bb2138e0",
   "metadata": {},
   "outputs": [
    {
     "data": {
      "text/plain": [
       "<AxesSubplot:>"
      ]
     },
     "execution_count": 16,
     "metadata": {},
     "output_type": "execute_result"
    },
    {
     "data": {
      "image/png": "[encoded data removed]",
      "text/plain": [
       "<Figure size 432x288 with 1 Axes>"
      ]
     },
     "metadata": {
      "needs_background": "light"
     },
     "output_type": "display_data"
    }
   ],
   "source": [
    "losses[['loss', 'val_loss']].plot()"
   ]
  },
  {
   "cell_type": "code",
   "execution_count": 17,
   "id": "559d9109",
   "metadata": {},
   "outputs": [
    {
     "data": {
      "text/plain": [
       "'C:\\\\Users\\\\Harsh Toshniwal'"
      ]
     },
     "execution_count": 17,
     "metadata": {},
     "output_type": "execute_result"
    }
   ],
   "source": [
    "pwd"
   ]
  },
  {
   "cell_type": "code",
   "execution_count": 18,
   "id": "f7b950bf",
   "metadata": {},
   "outputs": [],
   "source": [
    "my_data_dir = 'D:/College/Cotton'"
   ]
  },
  {
   "cell_type": "code",
   "execution_count": 19,
   "id": "faa1e307",
   "metadata": {},
   "outputs": [
    {
     "data": {
      "text/plain": [
       "['bacterial-blight.png', 'images.jpg', 'test', 'train']"
      ]
     },
     "execution_count": 19,
     "metadata": {},
     "output_type": "execute_result"
    }
   ],
   "source": [
    "os.listdir(my_data_dir) "
   ]
  },
  {
   "cell_type": "code",
   "execution_count": 33,
   "id": "966f6714",
   "metadata": {},
   "outputs": [
    {
     "name": "stdout",
     "output_type": "stream",
     "text": [
      "1/1 [==============================] - 0s 15ms/step\n"
     ]
    }
   ],
   "source": [
    "test_image = image.load_img('D:/College/Cotton/curl.png',\n",
    "                            target_size = (64,64))\n",
    "test_image = image.img_to_array(test_image)\n",
    "test_image=test_image/255\n",
    "test_image = np.expand_dims(test_image, axis = 0)\n",
    "result = cnn.predict(test_image)"
   ]
  },
  {
   "cell_type": "code",
   "execution_count": 34,
   "id": "9509cadb",
   "metadata": {},
   "outputs": [
    {
     "data": {
      "text/plain": [
       "array([[5.1908825e-07, 9.5356482e-01, 4.6434626e-02, 4.4985271e-08]],\n",
       "      dtype=float32)"
      ]
     },
     "execution_count": 34,
     "metadata": {},
     "output_type": "execute_result"
    }
   ],
   "source": [
    "result"
   ]
  },
  {
   "cell_type": "code",
   "execution_count": 35,
   "id": "3147e351",
   "metadata": {},
   "outputs": [],
   "source": [
    "result = result.ravel() "
   ]
  },
  {
   "cell_type": "code",
   "execution_count": 36,
   "id": "c115a806",
   "metadata": {},
   "outputs": [
    {
     "data": {
      "text/plain": [
       "array([5.1908825e-07, 9.5356482e-01, 4.6434626e-02, 4.4985271e-08],\n",
       "      dtype=float32)"
      ]
     },
     "execution_count": 36,
     "metadata": {},
     "output_type": "execute_result"
    }
   ],
   "source": [
    "result"
   ]
  },
  {
   "cell_type": "code",
   "execution_count": 37,
   "id": "3be5bed6",
   "metadata": {},
   "outputs": [
    {
     "name": "stdout",
     "output_type": "stream",
     "text": [
      "Largest element is: 0.9535648 i.e. at the position 2\n"
     ]
    }
   ],
   "source": [
    "print(\"Largest element is:\", np.max(result), \"i.e. at the position\",  np.argmax(result) + 1)"
   ]
  },
  {
   "cell_type": "code",
   "execution_count": 38,
   "id": "e6541d6e",
   "metadata": {},
   "outputs": [],
   "source": [
    "#result.sort()\n",
    "#result "
   ]
  },
  {
   "cell_type": "code",
   "execution_count": 39,
   "id": "49ef9220",
   "metadata": {},
   "outputs": [],
   "source": [
    "result=result.tolist()"
   ]
  },
  {
   "cell_type": "code",
   "execution_count": 40,
   "id": "2080c3e6",
   "metadata": {},
   "outputs": [
    {
     "name": "stdout",
     "output_type": "stream",
     "text": [
      "54/54 [==============================] - 6s 106ms/step\n"
     ]
    }
   ],
   "source": [
    "predictions = cnn.predict(test_set)"
   ]
  },
  {
   "cell_type": "code",
   "execution_count": 41,
   "id": "7877f3f7",
   "metadata": {},
   "outputs": [
    {
     "data": {
      "text/plain": [
       "array([[False,  True, False, False],\n",
       "       [False, False,  True, False],\n",
       "       [False, False, False,  True],\n",
       "       ...,\n",
       "       [False, False, False,  True],\n",
       "       [False,  True, False, False],\n",
       "       [ True, False, False, False]])"
      ]
     },
     "execution_count": 41,
     "metadata": {},
     "output_type": "execute_result"
    }
   ],
   "source": [
    "predictions_in_binary = predictions > 0.5\n",
    "predictions_in_binary"
   ]
  },
  {
   "cell_type": "markdown",
   "id": "08c0133f",
   "metadata": {},
   "source": [
    "## Conclusion"
   ]
  },
  {
   "cell_type": "code",
   "execution_count": 42,
   "id": "3ca76983",
   "metadata": {},
   "outputs": [
    {
     "data": {
      "text/plain": [
       "[5.190882461647561e-07,\n",
       " 0.9535648226737976,\n",
       " 0.04643462598323822,\n",
       " 4.498527061969071e-08]"
      ]
     },
     "execution_count": 42,
     "metadata": {},
     "output_type": "execute_result"
    }
   ],
   "source": [
    "result"
   ]
  },
  {
   "cell_type": "code",
   "execution_count": 43,
   "id": "67f50dc8",
   "metadata": {},
   "outputs": [
    {
     "name": "stdout",
     "output_type": "stream",
     "text": [
      "Largest element present in given array: 0.9535648226737976 And it belongs to curl virus class.\n"
     ]
    }
   ],
   "source": [
    "classes=[\"bacterial light\",\"curl virus\",\"fussarium wilt\",\"healthy plant\"]\n",
    "#max = result[0];    \n",
    "maximum = 0     \n",
    "#Loop through the array    \n",
    "for i in result:    \n",
    "    #Compare elements of array with max    \n",
    "    if(i > maximum):    \n",
    "        maximum = i\n",
    "        \n",
    "           \n",
    "print(\"Largest element present in given array: \" + str(maximum) +\" And it belongs to \" + classes[np.argmax(result)] +\" class.\");      "
   ]
  }
 ],
 "metadata": {
  "kernelspec": {
   "display_name": "Python 3 (ipykernel)",
   "language": "python",
   "name": "python3"
  },
  "language_info": {
   "codemirror_mode": {
    "name": "ipython",
    "version": 3
   },
   "file_extension": ".py",
   "mimetype": "text/x-python",
   "name": "python",
   "nbconvert_exporter": "python",
   "pygments_lexer": "ipython3",
   "version": "3.9.7"
  }
 },
 "nbformat": 4,
 "nbformat_minor": 5
}
